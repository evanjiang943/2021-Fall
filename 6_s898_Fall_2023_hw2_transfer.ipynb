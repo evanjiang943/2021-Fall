{
  "cells": [
    {
      "cell_type": "markdown",
      "metadata": {
        "id": "view-in-github",
        "colab_type": "text"
      },
      "source": [
        "<a href=\"https://colab.research.google.com/github/evanjiang943/2021-Fall/blob/master/6_s898_Fall_2023_hw2_transfer.ipynb\" target=\"_parent\"><img src=\"https://colab.research.google.com/assets/colab-badge.svg\" alt=\"Open In Colab\"/></a>"
      ]
    },
    {
      "cell_type": "markdown",
      "metadata": {
        "id": "QbxwCc7z-os7"
      },
      "source": [
        "# Hyperparameter transfer"
      ]
    },
    {
      "cell_type": "markdown",
      "metadata": {
        "id": "0uv4Vhbl-8IG"
      },
      "source": [
        "## Basic imports"
      ]
    },
    {
      "cell_type": "code",
      "execution_count": null,
      "metadata": {
        "id": "iGEphy93-rZt"
      },
      "outputs": [],
      "source": [
        "import math\n",
        "import time\n",
        "import numpy as np\n",
        "\n",
        "from tqdm.notebook import tqdm\n",
        "\n",
        "import torch\n",
        "import torch.nn as nn\n",
        "import torch.nn.functional as F\n",
        "\n",
        "from torchvision import datasets, transforms"
      ]
    },
    {
      "cell_type": "markdown",
      "metadata": {
        "id": "Y9ZCMq_1q5N2"
      },
      "source": [
        "## Question 1: Spectral norm of Gaussian matrix"
      ]
    },
    {
      "cell_type": "code",
      "execution_count": null,
      "metadata": {
        "id": "5cP6RqNvq709"
      },
      "outputs": [],
      "source": [
        "d = 100\n",
        "\n",
        "M = torch.randn(size=(d,d), device=\"cuda\")\n",
        "spec_norm = torch.linalg.matrix_norm(M, ord=2)\n",
        "\n",
        "print(spec_norm.item())\n",
        "print(math.sqrt(4*d))"
      ]
    },
    {
      "cell_type": "markdown",
      "metadata": {
        "id": "42Wgd8CGu0XY"
      },
      "source": [
        "## Question 2: Spectral norm of orthogonal matrix"
      ]
    },
    {
      "cell_type": "code",
      "execution_count": null,
      "metadata": {
        "id": "y1A0vhO-uzjP"
      },
      "outputs": [],
      "source": [
        "from torch.nn.init import orthogonal_\n",
        "\n",
        "d = 100\n",
        "\n",
        "M = torch.zeros(size=(d,d), device=\"cuda\")\n",
        "orthogonal_(M) # this line resamples M to be a random semi-orthogonal matrix\n",
        "spec_norm = torch.linalg.matrix_norm(M, ord=2)\n",
        "\n",
        "print(spec_norm.item())"
      ]
    },
    {
      "cell_type": "markdown",
      "metadata": {
        "id": "dGhFztcpvUpI"
      },
      "source": [
        "## Question 3: Power iteration"
      ]
    },
    {
      "cell_type": "code",
      "execution_count": null,
      "metadata": {
        "id": "MNs9SY5f-_F2"
      },
      "outputs": [],
      "source": [
        "def spectral_norm(A, n_steps=10):\n",
        "    v = torch.randn(A.shape[1], device=A.device)\n",
        "    for _ in range(n_steps):\n",
        "        v /= v.norm()\n",
        "        v = A @ v @ A\n",
        "    return v.norm().sqrt()\n",
        "\n",
        "d = 2000\n",
        "M = torch.randn(size=(d,d), device=\"cuda\")\n",
        "\n",
        "t0 = time.time()\n",
        "spec_norm = spectral_norm(M)\n",
        "print(time.time()-t0, spec_norm.item())\n",
        "\n",
        "t0 = time.time()\n",
        "spec_norm = torch.linalg.matrix_norm(M, ord=2)\n",
        "print(time.time()-t0, spec_norm.item())"
      ]
    },
    {
      "cell_type": "markdown",
      "metadata": {
        "id": "aRjUIyIH_bLq"
      },
      "source": [
        "## Question 4: Learning rate transfer across width and depth\n",
        "You only need to modify the two lines of code marked TODO."
      ]
    },
    {
      "cell_type": "code",
      "execution_count": null,
      "metadata": {
        "id": "fmKUDazw_qOe"
      },
      "outputs": [],
      "source": [
        "batch_size = 128\n",
        "\n",
        "mean = (0.4914, 0.4822, 0.4465)\n",
        "std = (0.2023, 0.1994, 0.2010)\n",
        "\n",
        "transform = transforms.Compose([transforms.ToTensor(),transforms.Normalize(mean, std)])\n",
        "\n",
        "trainset = datasets.CIFAR10('./data', train=True,  download=True, transform=transform)\n",
        "testset  = datasets.CIFAR10('./data', train=False, download=True, transform=transform)\n",
        "\n",
        "train_loader = torch.utils.data.DataLoader(trainset, batch_size=batch_size, shuffle=True,  pin_memory=True)\n",
        "test_loader  = torch.utils.data.DataLoader(testset,  batch_size=batch_size, shuffle=False, pin_memory=True)"
      ]
    },
    {
      "cell_type": "markdown",
      "metadata": {
        "id": "DLf5JueCAHVJ"
      },
      "source": [
        "## Define the MLP architecture"
      ]
    },
    {
      "cell_type": "code",
      "execution_count": null,
      "metadata": {
        "id": "NLEAb949AI5g"
      },
      "outputs": [],
      "source": [
        "class MLP(nn.Module):\n",
        "    def __init__(self, depth, width):\n",
        "        super(MLP, self).__init__()\n",
        "\n",
        "        self.initial = nn.Linear(3072, width, bias=False)\n",
        "        self.layers = nn.ModuleList([nn.Linear(width, width, bias=False) for _ in range(depth-2)])\n",
        "        self.final = nn.Linear(width, 10, bias=False)\n",
        "\n",
        "        self.nonlinearity = lambda x: F.relu(x) * math.sqrt(2)\n",
        "\n",
        "    def forward(self, x):\n",
        "        x = x.view(x.shape[0],-1)\n",
        "\n",
        "        x = self.initial(x)\n",
        "        x = self.nonlinearity(x)\n",
        "\n",
        "        for layer in self.layers:\n",
        "            x = layer(x)\n",
        "            x = self.nonlinearity(x)\n",
        "\n",
        "        return self.final(x)"
      ]
    },
    {
      "cell_type": "markdown",
      "metadata": {
        "id": "FyM0bUBfBBCA"
      },
      "source": [
        "## Define the train and test loop"
      ]
    },
    {
      "cell_type": "code",
      "execution_count": null,
      "metadata": {
        "id": "kNQFgAdqBEEs"
      },
      "outputs": [],
      "source": [
        "def loop(net, train, eta):\n",
        "    dataloader  = train_loader   if train else test_loader\n",
        "    description = \"Training... \" if train else \"Testing... \"\n",
        "\n",
        "    acc_list = []\n",
        "\n",
        "    for data, target in tqdm(dataloader, desc=description):\n",
        "        data, target = data.cuda(), target.cuda()\n",
        "        output = net(data)\n",
        "\n",
        "        loss = output.logsumexp(dim=1).mean() - output[range(target.shape[0]),target].mean() # cross-entropy loss\n",
        "        acc = (output.max(dim=1)[1] == target).sum() / target.shape[0] # accuracy\n",
        "        acc_list.append(acc.item())\n",
        "\n",
        "        if train:\n",
        "            loss.backward()\n",
        "\n",
        "            depth = sum(1 for p in net.parameters())\n",
        "            for p in net.parameters():\n",
        "                update = p.grad\n",
        "                update *= 1 # TODO modify this line of code\n",
        "                p.data -= eta * update\n",
        "            net.zero_grad()\n",
        "\n",
        "    return np.mean(acc_list)"
      ]
    },
    {
      "cell_type": "markdown",
      "metadata": {
        "id": "h3MnHLXpB4YM"
      },
      "source": [
        "## Train networks at different widths and depths"
      ]
    },
    {
      "cell_type": "code",
      "execution_count": null,
      "metadata": {
        "id": "WNhRy3ABB85g"
      },
      "outputs": [],
      "source": [
        "for width, depth in [(100,3), (2000,5), (4000,7)]:\n",
        "    print(f\"Training at {width=}, {depth=}\")\n",
        "\n",
        "    net = MLP(depth, width).cuda()\n",
        "\n",
        "    print(\"\\nNetwork tensor shapes are:\\n\")\n",
        "    for name, p in net.named_parameters():\n",
        "        print(p.shape, '\\t', name)\n",
        "        orthogonal_(p)\n",
        "        p.data *= 1 # TODO modify this line of code\n",
        "\n",
        "    for _ in range(3):\n",
        "        train_acc = loop(net, train=True,  eta=0.5)\n",
        "    test_acc  = loop(net, train=False, eta=None)\n",
        "\n",
        "    print(f\"\\nWe achieved train acc={train_acc:.3f} and test acc={test_acc:.3f}\\n\")\n",
        "    print(\"===================================================================\\n\")"
      ]
    }
  ],
  "metadata": {
    "accelerator": "GPU",
    "colab": {
      "provenance": [],
      "include_colab_link": true
    },
    "kernelspec": {
      "display_name": "Python 3 (ipykernel)",
      "language": "python",
      "name": "python3"
    },
    "language_info": {
      "codemirror_mode": {
        "name": "ipython",
        "version": 3
      },
      "file_extension": ".py",
      "mimetype": "text/x-python",
      "name": "python",
      "nbconvert_exporter": "python",
      "pygments_lexer": "ipython3",
      "version": "3.9.7"
    }
  },
  "nbformat": 4,
  "nbformat_minor": 0
}